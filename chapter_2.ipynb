{
 "cells": [
  {
   "cell_type": "code",
   "execution_count": null,
   "metadata": {
    "id": "FQpoFECiJiLG"
   },
   "outputs": [],
   "source": [
    "# Initial parameters\n",
    "initial_investment = 1000  # €\n",
    "goal = 2000  # €\n",
    "investment = initial_investment\n",
    "\n",
    "# Question 1: Years needed at 4% interest\n",
    "rate = 0.04\n",
    "years = 0\n",
    "while investment < goal:\n",
    "    investment *= (1 + rate)\n",
    "    years += 1\n",
    "print(f\"At 4% interest, it takes {years} years to reach €{goal}.\")\n",
    "\n",
    "# Question 2: Try with 6%\n",
    "rate = 0.06\n",
    "investment = initial_investment\n",
    "years = 0\n",
    "while investment < goal:\n",
    "    investment *= (1 + rate)\n",
    "    years += 1\n",
    "print(f\"At 6% interest, it takes {years} years to reach €{goal}.\")\n",
    "\n",
    "# Question 3: Try rates from 2% to 8%\n",
    "for r in range(2, 9):\n",
    "    rate = r / 100\n",
    "    investment = initial_investment\n",
    "    years = 0\n",
    "    while investment < goal:\n",
    "        investment *= (1 + rate)\n",
    "        years += 1\n",
    "    print(f\"At {r}%, it takes {years} years to reach €{goal}.\")"
   ]
  },
  {
   "cell_type": "code",
   "execution_count": null,
   "metadata": {},
   "outputs": [],
   "source": []
  }
 ],
 "metadata": {
  "colab": {
   "collapsed_sections": [],
   "provenance": []
  },
  "kernelspec": {
   "display_name": "Python 3",
   "language": "python",
   "name": "python3"
  },
  "language_info": {
   "codemirror_mode": {
    "name": "ipython",
    "version": 3
   },
   "file_extension": ".py",
   "mimetype": "text/x-python",
   "name": "python",
   "nbconvert_exporter": "python",
   "pygments_lexer": "ipython3",
   "version": "3.12.1"
  }
 },
 "nbformat": 4,
 "nbformat_minor": 1
}
